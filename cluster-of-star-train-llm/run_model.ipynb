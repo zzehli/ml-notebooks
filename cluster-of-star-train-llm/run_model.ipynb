{
  "nbformat": 4,
  "nbformat_minor": 0,
  "metadata": {
    "colab": {
      "provenance": []
    },
    "kernelspec": {
      "name": "python3",
      "display_name": "Python 3"
    },
    "language_info": {
      "name": "python"
    },
    "widgets": {
      "application/vnd.jupyter.widget-state+json": {
        "e0678949ada14027b13bdd5669b61ff2": {
          "model_module": "@jupyter-widgets/controls",
          "model_name": "VBoxModel",
          "model_module_version": "1.5.0",
          "state": {
            "_dom_classes": [],
            "_model_module": "@jupyter-widgets/controls",
            "_model_module_version": "1.5.0",
            "_model_name": "VBoxModel",
            "_view_count": null,
            "_view_module": "@jupyter-widgets/controls",
            "_view_module_version": "1.5.0",
            "_view_name": "VBoxView",
            "box_style": "",
            "children": [
              "IPY_MODEL_6ce32e7fd2c447e0956ccf885df68f8f"
            ],
            "layout": "IPY_MODEL_298a0e4edec845c18f6dac8532dbfa94"
          }
        },
        "e44d0a569cc84668a39c94978a4dc494": {
          "model_module": "@jupyter-widgets/controls",
          "model_name": "HTMLModel",
          "model_module_version": "1.5.0",
          "state": {
            "_dom_classes": [],
            "_model_module": "@jupyter-widgets/controls",
            "_model_module_version": "1.5.0",
            "_model_name": "HTMLModel",
            "_view_count": null,
            "_view_module": "@jupyter-widgets/controls",
            "_view_module_version": "1.5.0",
            "_view_name": "HTMLView",
            "description": "",
            "description_tooltip": null,
            "layout": "IPY_MODEL_8e8ef20938e5411a81edb5579f75c2d0",
            "placeholder": "​",
            "style": "IPY_MODEL_5b7063e707f74064a6347a9a2acdad7b",
            "value": "<center> <img\nsrc=https://huggingface.co/front/assets/huggingface_logo-noborder.svg\nalt='Hugging Face'> <br> Copy a token from <a\nhref=\"https://huggingface.co/settings/tokens\" target=\"_blank\">your Hugging Face\ntokens page</a> and paste it below. <br> Immediately click login after copying\nyour token or it might be stored in plain text in this notebook file. </center>"
          }
        },
        "edca51d025434f789687f78dad074e49": {
          "model_module": "@jupyter-widgets/controls",
          "model_name": "PasswordModel",
          "model_module_version": "1.5.0",
          "state": {
            "_dom_classes": [],
            "_model_module": "@jupyter-widgets/controls",
            "_model_module_version": "1.5.0",
            "_model_name": "PasswordModel",
            "_view_count": null,
            "_view_module": "@jupyter-widgets/controls",
            "_view_module_version": "1.5.0",
            "_view_name": "PasswordView",
            "continuous_update": true,
            "description": "Token:",
            "description_tooltip": null,
            "disabled": false,
            "layout": "IPY_MODEL_75257f97e55b47d89ce7b31a7600d370",
            "placeholder": "​",
            "style": "IPY_MODEL_f817cb900afe485fb151e4e0632080db",
            "value": ""
          }
        },
        "854c9b100180407bb10636c6e6a5125e": {
          "model_module": "@jupyter-widgets/controls",
          "model_name": "CheckboxModel",
          "model_module_version": "1.5.0",
          "state": {
            "_dom_classes": [],
            "_model_module": "@jupyter-widgets/controls",
            "_model_module_version": "1.5.0",
            "_model_name": "CheckboxModel",
            "_view_count": null,
            "_view_module": "@jupyter-widgets/controls",
            "_view_module_version": "1.5.0",
            "_view_name": "CheckboxView",
            "description": "Add token as git credential?",
            "description_tooltip": null,
            "disabled": false,
            "indent": true,
            "layout": "IPY_MODEL_c5d092a8213440aa8c334d34e9db70e9",
            "style": "IPY_MODEL_4a5711a07d70488eafc4184803a5f5aa",
            "value": true
          }
        },
        "816fd779d4e9420d82464da65a78a88f": {
          "model_module": "@jupyter-widgets/controls",
          "model_name": "ButtonModel",
          "model_module_version": "1.5.0",
          "state": {
            "_dom_classes": [],
            "_model_module": "@jupyter-widgets/controls",
            "_model_module_version": "1.5.0",
            "_model_name": "ButtonModel",
            "_view_count": null,
            "_view_module": "@jupyter-widgets/controls",
            "_view_module_version": "1.5.0",
            "_view_name": "ButtonView",
            "button_style": "",
            "description": "Login",
            "disabled": false,
            "icon": "",
            "layout": "IPY_MODEL_06ff2d54464c419399a049434edb33c7",
            "style": "IPY_MODEL_2670c6a94d654174968e31c1552382d0",
            "tooltip": ""
          }
        },
        "c21f3bec580f480a8256d799e185ada7": {
          "model_module": "@jupyter-widgets/controls",
          "model_name": "HTMLModel",
          "model_module_version": "1.5.0",
          "state": {
            "_dom_classes": [],
            "_model_module": "@jupyter-widgets/controls",
            "_model_module_version": "1.5.0",
            "_model_name": "HTMLModel",
            "_view_count": null,
            "_view_module": "@jupyter-widgets/controls",
            "_view_module_version": "1.5.0",
            "_view_name": "HTMLView",
            "description": "",
            "description_tooltip": null,
            "layout": "IPY_MODEL_84f2886c94ce4d4bafd1fd259bd1f2e6",
            "placeholder": "​",
            "style": "IPY_MODEL_b6ce4905b40d49b3bfe9a0fd6747c812",
            "value": "\n<b>Pro Tip:</b> If you don't already have one, you can create a dedicated\n'notebooks' token with 'write' access, that you can then easily reuse for all\nnotebooks. </center>"
          }
        },
        "298a0e4edec845c18f6dac8532dbfa94": {
          "model_module": "@jupyter-widgets/base",
          "model_name": "LayoutModel",
          "model_module_version": "1.2.0",
          "state": {
            "_model_module": "@jupyter-widgets/base",
            "_model_module_version": "1.2.0",
            "_model_name": "LayoutModel",
            "_view_count": null,
            "_view_module": "@jupyter-widgets/base",
            "_view_module_version": "1.2.0",
            "_view_name": "LayoutView",
            "align_content": null,
            "align_items": "center",
            "align_self": null,
            "border": null,
            "bottom": null,
            "display": "flex",
            "flex": null,
            "flex_flow": "column",
            "grid_area": null,
            "grid_auto_columns": null,
            "grid_auto_flow": null,
            "grid_auto_rows": null,
            "grid_column": null,
            "grid_gap": null,
            "grid_row": null,
            "grid_template_areas": null,
            "grid_template_columns": null,
            "grid_template_rows": null,
            "height": null,
            "justify_content": null,
            "justify_items": null,
            "left": null,
            "margin": null,
            "max_height": null,
            "max_width": null,
            "min_height": null,
            "min_width": null,
            "object_fit": null,
            "object_position": null,
            "order": null,
            "overflow": null,
            "overflow_x": null,
            "overflow_y": null,
            "padding": null,
            "right": null,
            "top": null,
            "visibility": null,
            "width": "50%"
          }
        },
        "8e8ef20938e5411a81edb5579f75c2d0": {
          "model_module": "@jupyter-widgets/base",
          "model_name": "LayoutModel",
          "model_module_version": "1.2.0",
          "state": {
            "_model_module": "@jupyter-widgets/base",
            "_model_module_version": "1.2.0",
            "_model_name": "LayoutModel",
            "_view_count": null,
            "_view_module": "@jupyter-widgets/base",
            "_view_module_version": "1.2.0",
            "_view_name": "LayoutView",
            "align_content": null,
            "align_items": null,
            "align_self": null,
            "border": null,
            "bottom": null,
            "display": null,
            "flex": null,
            "flex_flow": null,
            "grid_area": null,
            "grid_auto_columns": null,
            "grid_auto_flow": null,
            "grid_auto_rows": null,
            "grid_column": null,
            "grid_gap": null,
            "grid_row": null,
            "grid_template_areas": null,
            "grid_template_columns": null,
            "grid_template_rows": null,
            "height": null,
            "justify_content": null,
            "justify_items": null,
            "left": null,
            "margin": null,
            "max_height": null,
            "max_width": null,
            "min_height": null,
            "min_width": null,
            "object_fit": null,
            "object_position": null,
            "order": null,
            "overflow": null,
            "overflow_x": null,
            "overflow_y": null,
            "padding": null,
            "right": null,
            "top": null,
            "visibility": null,
            "width": null
          }
        },
        "5b7063e707f74064a6347a9a2acdad7b": {
          "model_module": "@jupyter-widgets/controls",
          "model_name": "DescriptionStyleModel",
          "model_module_version": "1.5.0",
          "state": {
            "_model_module": "@jupyter-widgets/controls",
            "_model_module_version": "1.5.0",
            "_model_name": "DescriptionStyleModel",
            "_view_count": null,
            "_view_module": "@jupyter-widgets/base",
            "_view_module_version": "1.2.0",
            "_view_name": "StyleView",
            "description_width": ""
          }
        },
        "75257f97e55b47d89ce7b31a7600d370": {
          "model_module": "@jupyter-widgets/base",
          "model_name": "LayoutModel",
          "model_module_version": "1.2.0",
          "state": {
            "_model_module": "@jupyter-widgets/base",
            "_model_module_version": "1.2.0",
            "_model_name": "LayoutModel",
            "_view_count": null,
            "_view_module": "@jupyter-widgets/base",
            "_view_module_version": "1.2.0",
            "_view_name": "LayoutView",
            "align_content": null,
            "align_items": null,
            "align_self": null,
            "border": null,
            "bottom": null,
            "display": null,
            "flex": null,
            "flex_flow": null,
            "grid_area": null,
            "grid_auto_columns": null,
            "grid_auto_flow": null,
            "grid_auto_rows": null,
            "grid_column": null,
            "grid_gap": null,
            "grid_row": null,
            "grid_template_areas": null,
            "grid_template_columns": null,
            "grid_template_rows": null,
            "height": null,
            "justify_content": null,
            "justify_items": null,
            "left": null,
            "margin": null,
            "max_height": null,
            "max_width": null,
            "min_height": null,
            "min_width": null,
            "object_fit": null,
            "object_position": null,
            "order": null,
            "overflow": null,
            "overflow_x": null,
            "overflow_y": null,
            "padding": null,
            "right": null,
            "top": null,
            "visibility": null,
            "width": null
          }
        },
        "f817cb900afe485fb151e4e0632080db": {
          "model_module": "@jupyter-widgets/controls",
          "model_name": "DescriptionStyleModel",
          "model_module_version": "1.5.0",
          "state": {
            "_model_module": "@jupyter-widgets/controls",
            "_model_module_version": "1.5.0",
            "_model_name": "DescriptionStyleModel",
            "_view_count": null,
            "_view_module": "@jupyter-widgets/base",
            "_view_module_version": "1.2.0",
            "_view_name": "StyleView",
            "description_width": ""
          }
        },
        "c5d092a8213440aa8c334d34e9db70e9": {
          "model_module": "@jupyter-widgets/base",
          "model_name": "LayoutModel",
          "model_module_version": "1.2.0",
          "state": {
            "_model_module": "@jupyter-widgets/base",
            "_model_module_version": "1.2.0",
            "_model_name": "LayoutModel",
            "_view_count": null,
            "_view_module": "@jupyter-widgets/base",
            "_view_module_version": "1.2.0",
            "_view_name": "LayoutView",
            "align_content": null,
            "align_items": null,
            "align_self": null,
            "border": null,
            "bottom": null,
            "display": null,
            "flex": null,
            "flex_flow": null,
            "grid_area": null,
            "grid_auto_columns": null,
            "grid_auto_flow": null,
            "grid_auto_rows": null,
            "grid_column": null,
            "grid_gap": null,
            "grid_row": null,
            "grid_template_areas": null,
            "grid_template_columns": null,
            "grid_template_rows": null,
            "height": null,
            "justify_content": null,
            "justify_items": null,
            "left": null,
            "margin": null,
            "max_height": null,
            "max_width": null,
            "min_height": null,
            "min_width": null,
            "object_fit": null,
            "object_position": null,
            "order": null,
            "overflow": null,
            "overflow_x": null,
            "overflow_y": null,
            "padding": null,
            "right": null,
            "top": null,
            "visibility": null,
            "width": null
          }
        },
        "4a5711a07d70488eafc4184803a5f5aa": {
          "model_module": "@jupyter-widgets/controls",
          "model_name": "DescriptionStyleModel",
          "model_module_version": "1.5.0",
          "state": {
            "_model_module": "@jupyter-widgets/controls",
            "_model_module_version": "1.5.0",
            "_model_name": "DescriptionStyleModel",
            "_view_count": null,
            "_view_module": "@jupyter-widgets/base",
            "_view_module_version": "1.2.0",
            "_view_name": "StyleView",
            "description_width": ""
          }
        },
        "06ff2d54464c419399a049434edb33c7": {
          "model_module": "@jupyter-widgets/base",
          "model_name": "LayoutModel",
          "model_module_version": "1.2.0",
          "state": {
            "_model_module": "@jupyter-widgets/base",
            "_model_module_version": "1.2.0",
            "_model_name": "LayoutModel",
            "_view_count": null,
            "_view_module": "@jupyter-widgets/base",
            "_view_module_version": "1.2.0",
            "_view_name": "LayoutView",
            "align_content": null,
            "align_items": null,
            "align_self": null,
            "border": null,
            "bottom": null,
            "display": null,
            "flex": null,
            "flex_flow": null,
            "grid_area": null,
            "grid_auto_columns": null,
            "grid_auto_flow": null,
            "grid_auto_rows": null,
            "grid_column": null,
            "grid_gap": null,
            "grid_row": null,
            "grid_template_areas": null,
            "grid_template_columns": null,
            "grid_template_rows": null,
            "height": null,
            "justify_content": null,
            "justify_items": null,
            "left": null,
            "margin": null,
            "max_height": null,
            "max_width": null,
            "min_height": null,
            "min_width": null,
            "object_fit": null,
            "object_position": null,
            "order": null,
            "overflow": null,
            "overflow_x": null,
            "overflow_y": null,
            "padding": null,
            "right": null,
            "top": null,
            "visibility": null,
            "width": null
          }
        },
        "2670c6a94d654174968e31c1552382d0": {
          "model_module": "@jupyter-widgets/controls",
          "model_name": "ButtonStyleModel",
          "model_module_version": "1.5.0",
          "state": {
            "_model_module": "@jupyter-widgets/controls",
            "_model_module_version": "1.5.0",
            "_model_name": "ButtonStyleModel",
            "_view_count": null,
            "_view_module": "@jupyter-widgets/base",
            "_view_module_version": "1.2.0",
            "_view_name": "StyleView",
            "button_color": null,
            "font_weight": ""
          }
        },
        "84f2886c94ce4d4bafd1fd259bd1f2e6": {
          "model_module": "@jupyter-widgets/base",
          "model_name": "LayoutModel",
          "model_module_version": "1.2.0",
          "state": {
            "_model_module": "@jupyter-widgets/base",
            "_model_module_version": "1.2.0",
            "_model_name": "LayoutModel",
            "_view_count": null,
            "_view_module": "@jupyter-widgets/base",
            "_view_module_version": "1.2.0",
            "_view_name": "LayoutView",
            "align_content": null,
            "align_items": null,
            "align_self": null,
            "border": null,
            "bottom": null,
            "display": null,
            "flex": null,
            "flex_flow": null,
            "grid_area": null,
            "grid_auto_columns": null,
            "grid_auto_flow": null,
            "grid_auto_rows": null,
            "grid_column": null,
            "grid_gap": null,
            "grid_row": null,
            "grid_template_areas": null,
            "grid_template_columns": null,
            "grid_template_rows": null,
            "height": null,
            "justify_content": null,
            "justify_items": null,
            "left": null,
            "margin": null,
            "max_height": null,
            "max_width": null,
            "min_height": null,
            "min_width": null,
            "object_fit": null,
            "object_position": null,
            "order": null,
            "overflow": null,
            "overflow_x": null,
            "overflow_y": null,
            "padding": null,
            "right": null,
            "top": null,
            "visibility": null,
            "width": null
          }
        },
        "b6ce4905b40d49b3bfe9a0fd6747c812": {
          "model_module": "@jupyter-widgets/controls",
          "model_name": "DescriptionStyleModel",
          "model_module_version": "1.5.0",
          "state": {
            "_model_module": "@jupyter-widgets/controls",
            "_model_module_version": "1.5.0",
            "_model_name": "DescriptionStyleModel",
            "_view_count": null,
            "_view_module": "@jupyter-widgets/base",
            "_view_module_version": "1.2.0",
            "_view_name": "StyleView",
            "description_width": ""
          }
        },
        "63ee89a45d254f8c91204ceb4f4894f6": {
          "model_module": "@jupyter-widgets/controls",
          "model_name": "LabelModel",
          "model_module_version": "1.5.0",
          "state": {
            "_dom_classes": [],
            "_model_module": "@jupyter-widgets/controls",
            "_model_module_version": "1.5.0",
            "_model_name": "LabelModel",
            "_view_count": null,
            "_view_module": "@jupyter-widgets/controls",
            "_view_module_version": "1.5.0",
            "_view_name": "LabelView",
            "description": "",
            "description_tooltip": null,
            "layout": "IPY_MODEL_34b3bdc3772b49ecab08fe36c7cce1d3",
            "placeholder": "​",
            "style": "IPY_MODEL_7fbdeeda3d084426bc236e77b01a0d30",
            "value": "Connecting..."
          }
        },
        "34b3bdc3772b49ecab08fe36c7cce1d3": {
          "model_module": "@jupyter-widgets/base",
          "model_name": "LayoutModel",
          "model_module_version": "1.2.0",
          "state": {
            "_model_module": "@jupyter-widgets/base",
            "_model_module_version": "1.2.0",
            "_model_name": "LayoutModel",
            "_view_count": null,
            "_view_module": "@jupyter-widgets/base",
            "_view_module_version": "1.2.0",
            "_view_name": "LayoutView",
            "align_content": null,
            "align_items": null,
            "align_self": null,
            "border": null,
            "bottom": null,
            "display": null,
            "flex": null,
            "flex_flow": null,
            "grid_area": null,
            "grid_auto_columns": null,
            "grid_auto_flow": null,
            "grid_auto_rows": null,
            "grid_column": null,
            "grid_gap": null,
            "grid_row": null,
            "grid_template_areas": null,
            "grid_template_columns": null,
            "grid_template_rows": null,
            "height": null,
            "justify_content": null,
            "justify_items": null,
            "left": null,
            "margin": null,
            "max_height": null,
            "max_width": null,
            "min_height": null,
            "min_width": null,
            "object_fit": null,
            "object_position": null,
            "order": null,
            "overflow": null,
            "overflow_x": null,
            "overflow_y": null,
            "padding": null,
            "right": null,
            "top": null,
            "visibility": null,
            "width": null
          }
        },
        "7fbdeeda3d084426bc236e77b01a0d30": {
          "model_module": "@jupyter-widgets/controls",
          "model_name": "DescriptionStyleModel",
          "model_module_version": "1.5.0",
          "state": {
            "_model_module": "@jupyter-widgets/controls",
            "_model_module_version": "1.5.0",
            "_model_name": "DescriptionStyleModel",
            "_view_count": null,
            "_view_module": "@jupyter-widgets/base",
            "_view_module_version": "1.2.0",
            "_view_name": "StyleView",
            "description_width": ""
          }
        },
        "42adf7c6d2444183814ad7e1ad3b73c9": {
          "model_module": "@jupyter-widgets/controls",
          "model_name": "LabelModel",
          "model_module_version": "1.5.0",
          "state": {
            "_dom_classes": [],
            "_model_module": "@jupyter-widgets/controls",
            "_model_module_version": "1.5.0",
            "_model_name": "LabelModel",
            "_view_count": null,
            "_view_module": "@jupyter-widgets/controls",
            "_view_module_version": "1.5.0",
            "_view_name": "LabelView",
            "description": "",
            "description_tooltip": null,
            "layout": "IPY_MODEL_18fd59deffdd41eb9a6a81a6d8a89aa6",
            "placeholder": "​",
            "style": "IPY_MODEL_ab4270d1acc247e6bc88795b6d86f9fb",
            "value": "Connecting..."
          }
        },
        "18fd59deffdd41eb9a6a81a6d8a89aa6": {
          "model_module": "@jupyter-widgets/base",
          "model_name": "LayoutModel",
          "model_module_version": "1.2.0",
          "state": {
            "_model_module": "@jupyter-widgets/base",
            "_model_module_version": "1.2.0",
            "_model_name": "LayoutModel",
            "_view_count": null,
            "_view_module": "@jupyter-widgets/base",
            "_view_module_version": "1.2.0",
            "_view_name": "LayoutView",
            "align_content": null,
            "align_items": null,
            "align_self": null,
            "border": null,
            "bottom": null,
            "display": null,
            "flex": null,
            "flex_flow": null,
            "grid_area": null,
            "grid_auto_columns": null,
            "grid_auto_flow": null,
            "grid_auto_rows": null,
            "grid_column": null,
            "grid_gap": null,
            "grid_row": null,
            "grid_template_areas": null,
            "grid_template_columns": null,
            "grid_template_rows": null,
            "height": null,
            "justify_content": null,
            "justify_items": null,
            "left": null,
            "margin": null,
            "max_height": null,
            "max_width": null,
            "min_height": null,
            "min_width": null,
            "object_fit": null,
            "object_position": null,
            "order": null,
            "overflow": null,
            "overflow_x": null,
            "overflow_y": null,
            "padding": null,
            "right": null,
            "top": null,
            "visibility": null,
            "width": null
          }
        },
        "ab4270d1acc247e6bc88795b6d86f9fb": {
          "model_module": "@jupyter-widgets/controls",
          "model_name": "DescriptionStyleModel",
          "model_module_version": "1.5.0",
          "state": {
            "_model_module": "@jupyter-widgets/controls",
            "_model_module_version": "1.5.0",
            "_model_name": "DescriptionStyleModel",
            "_view_count": null,
            "_view_module": "@jupyter-widgets/base",
            "_view_module_version": "1.2.0",
            "_view_name": "StyleView",
            "description_width": ""
          }
        },
        "6ce32e7fd2c447e0956ccf885df68f8f": {
          "model_module": "@jupyter-widgets/controls",
          "model_name": "LabelModel",
          "model_module_version": "1.5.0",
          "state": {
            "_dom_classes": [],
            "_model_module": "@jupyter-widgets/controls",
            "_model_module_version": "1.5.0",
            "_model_name": "LabelModel",
            "_view_count": null,
            "_view_module": "@jupyter-widgets/controls",
            "_view_module_version": "1.5.0",
            "_view_name": "LabelView",
            "description": "",
            "description_tooltip": null,
            "layout": "IPY_MODEL_f98d084ff5954b96aa6b64737e62d7a3",
            "placeholder": "​",
            "style": "IPY_MODEL_3ff3368e76af4968b4e26f54a14d7d50",
            "value": "Token colab not found in /root/.cache/huggingface/stored_tokens"
          }
        },
        "f98d084ff5954b96aa6b64737e62d7a3": {
          "model_module": "@jupyter-widgets/base",
          "model_name": "LayoutModel",
          "model_module_version": "1.2.0",
          "state": {
            "_model_module": "@jupyter-widgets/base",
            "_model_module_version": "1.2.0",
            "_model_name": "LayoutModel",
            "_view_count": null,
            "_view_module": "@jupyter-widgets/base",
            "_view_module_version": "1.2.0",
            "_view_name": "LayoutView",
            "align_content": null,
            "align_items": null,
            "align_self": null,
            "border": null,
            "bottom": null,
            "display": null,
            "flex": null,
            "flex_flow": null,
            "grid_area": null,
            "grid_auto_columns": null,
            "grid_auto_flow": null,
            "grid_auto_rows": null,
            "grid_column": null,
            "grid_gap": null,
            "grid_row": null,
            "grid_template_areas": null,
            "grid_template_columns": null,
            "grid_template_rows": null,
            "height": null,
            "justify_content": null,
            "justify_items": null,
            "left": null,
            "margin": null,
            "max_height": null,
            "max_width": null,
            "min_height": null,
            "min_width": null,
            "object_fit": null,
            "object_position": null,
            "order": null,
            "overflow": null,
            "overflow_x": null,
            "overflow_y": null,
            "padding": null,
            "right": null,
            "top": null,
            "visibility": null,
            "width": null
          }
        },
        "3ff3368e76af4968b4e26f54a14d7d50": {
          "model_module": "@jupyter-widgets/controls",
          "model_name": "DescriptionStyleModel",
          "model_module_version": "1.5.0",
          "state": {
            "_model_module": "@jupyter-widgets/controls",
            "_model_module_version": "1.5.0",
            "_model_name": "DescriptionStyleModel",
            "_view_count": null,
            "_view_module": "@jupyter-widgets/base",
            "_view_module_version": "1.2.0",
            "_view_name": "StyleView",
            "description_width": ""
          }
        }
      }
    }
  },
  "cells": [
    {
      "cell_type": "code",
      "source": [
        "# from huggingface_hub import notebook_login\n",
        "\n",
        "# notebook_login()"
      ],
      "metadata": {
        "colab": {
          "base_uri": "https://localhost:8080/",
          "height": 49,
          "referenced_widgets": [
            "e0678949ada14027b13bdd5669b61ff2",
            "e44d0a569cc84668a39c94978a4dc494",
            "edca51d025434f789687f78dad074e49",
            "854c9b100180407bb10636c6e6a5125e",
            "816fd779d4e9420d82464da65a78a88f",
            "c21f3bec580f480a8256d799e185ada7",
            "298a0e4edec845c18f6dac8532dbfa94",
            "8e8ef20938e5411a81edb5579f75c2d0",
            "5b7063e707f74064a6347a9a2acdad7b",
            "75257f97e55b47d89ce7b31a7600d370",
            "f817cb900afe485fb151e4e0632080db",
            "c5d092a8213440aa8c334d34e9db70e9",
            "4a5711a07d70488eafc4184803a5f5aa",
            "06ff2d54464c419399a049434edb33c7",
            "2670c6a94d654174968e31c1552382d0",
            "84f2886c94ce4d4bafd1fd259bd1f2e6",
            "b6ce4905b40d49b3bfe9a0fd6747c812",
            "63ee89a45d254f8c91204ceb4f4894f6",
            "34b3bdc3772b49ecab08fe36c7cce1d3",
            "7fbdeeda3d084426bc236e77b01a0d30",
            "42adf7c6d2444183814ad7e1ad3b73c9",
            "18fd59deffdd41eb9a6a81a6d8a89aa6",
            "ab4270d1acc247e6bc88795b6d86f9fb",
            "6ce32e7fd2c447e0956ccf885df68f8f",
            "f98d084ff5954b96aa6b64737e62d7a3",
            "3ff3368e76af4968b4e26f54a14d7d50"
          ]
        },
        "id": "1T2_n7hMfiNZ",
        "outputId": "93a98012-74ae-4b90-e14a-b4480bc690fd"
      },
      "execution_count": null,
      "outputs": [
        {
          "output_type": "display_data",
          "data": {
            "text/plain": [
              "VBox(children=(HTML(value='<center> <img\\nsrc=https://huggingface.co/front/assets/huggingface_logo-noborder.sv…"
            ],
            "application/vnd.jupyter.widget-view+json": {
              "version_major": 2,
              "version_minor": 0,
              "model_id": "e0678949ada14027b13bdd5669b61ff2"
            }
          },
          "metadata": {}
        }
      ]
    },
    {
      "cell_type": "code",
      "execution_count": 1,
      "metadata": {
        "id": "CFg3YIr1ejgo"
      },
      "outputs": [],
      "source": [
        "prompts = [\"Fish has a big dream\",\n",
        "           \"Apple tree is close by.\",\n",
        "           \"Ann wants to go to university\",\n",
        "           \"He left early in the morning befor the sunrise. But he hasn't come back after a whole day\",\n",
        "           \"Clearly there is something sketchy going on in the school.\"]\n"
      ]
    },
    {
      "cell_type": "code",
      "source": [
        "from transformers import LlamaTokenizer, LlamaForCausalLM, pipeline\n",
        "tokenizer =  LlamaTokenizer.from_pretrained(\"Jae-star/llama-fin\", padding_side='left')\n",
        "model = LlamaForCausalLM.from_pretrained(\"Jae-star/llama-fin\")\n",
        "\n",
        "# tokenizer.add_special_tokens({\"bos_token\": \"<s>\", \"eos_token\": \"</s>\"})\n",
        "\n",
        "# tokenizer.pad_token = tokenizer.eos_token\n",
        "# tokenizer.pad_token_id = tokenizer.eos_token_id\n",
        "# pipe = pipeline(\"text-generation\", model=\"Jae-star/llama-fin\", device=0, tokenizer= tokenizer)\n",
        "# for out in pipe(prompts, batch_size=8, return_full_text=False):\n",
        "#     print(out)"
      ],
      "metadata": {
        "id": "xSI2LMGOvQM7"
      },
      "execution_count": 8,
      "outputs": []
    },
    {
      "cell_type": "code",
      "source": [
        "tokenizer.pad_token\n"
      ],
      "metadata": {
        "colab": {
          "base_uri": "https://localhost:8080/",
          "height": 35
        },
        "id": "nsfreJcyyxkm",
        "outputId": "4c37b86f-d159-4e01-8f1b-f2c25a7b3d01"
      },
      "execution_count": 5,
      "outputs": [
        {
          "output_type": "execute_result",
          "data": {
            "text/plain": [
              "'</s>'"
            ],
            "application/vnd.google.colaboratory.intrinsic+json": {
              "type": "string"
            }
          },
          "metadata": {},
          "execution_count": 5
        }
      ]
    },
    {
      "cell_type": "code",
      "source": [
        "# model.generation_config.pad_token_id = tokenizer.pad_token_id\n",
        "prompt = (\n",
        "    \"A fish name Fin\"\n",
        ")\n",
        "input_ids = tokenizer(prompts, return_tensors=\"pt\", padding=True)\n",
        "# print(input_ids)\n",
        "bad_tokens = [\"moral\", \"Moral\", \"The moral\", \"the moral\", \"Moral of the story\", \"moral of the story\"]\n",
        "bad_token_ids = [[tokenizer.encode(t, add_special_tokens=False)[0]] for t in bad_tokens]\n",
        "\n",
        "gen_tokens = model.generate(\n",
        "    **input_ids,\n",
        "    max_length=300,\n",
        "    do_sample=True,\n",
        "    temperature=0.7,\n",
        "    top_p=0.9,\n",
        "    repetition_penalty=1.2,\n",
        "    bad_words_ids=bad_token_ids\n",
        ")\n",
        "\n",
        "gen_text = tokenizer.batch_decode(gen_tokens)\n",
        "gen_text"
      ],
      "metadata": {
        "colab": {
          "base_uri": "https://localhost:8080/"
        },
        "id": "EDwIqrP_wqqN",
        "outputId": "26b31156-b3c0-477f-e90e-30523874f87e"
      },
      "execution_count": 13,
      "outputs": [
        {
          "output_type": "execute_result",
          "data": {
            "text/plain": [
              "['Fish has a big dream. He wants to soar in space like a rocket. Every day he asks his mom and dad if they can take him there, but they say no. They say it is too dangerous for fishing.\\n\\nOne day, while Fish was looking out of bed, he saw something shiny in his closet. It was a key! Fish was very excited and ran to get it. When he opened it up, he found lots of treasures inside.\\n\\nHe had been hoping for this forever. But then he realized that it was not just any key. A special key made from steel and gold, which could open anything. Fish was so happy and thought about how lucky he was to have such an exciting adventure. \\n\\nFrom that day onwards, Fish always remembered to be careful when flying around. He never forgot what a mysterious key he had seen in space. And every time he looked at it, he smiled. This story teaches us that being curious and grateful is better than being foolish or trying to do things alone. So remember to look closer before you into your life. If we are foolish, bad things will happen. You may find something amazing without a key!â€ \\n\\nThe end. \\n\\nMoral: Be brave, curious, and pay attention to',\n",
              " 'Apple tree is close by. It has many fruits and nuts for them to eat.\"\\n\\nTom nods. He likes apples too. He wants to try one. He climbs a ladder with his dad. They reach a big, red fruit that looks yummy. Tom picks it up and smells it.\\n\\n\"Mom, can I have this?\" he asks.\\n\\n\"Sure, Tom. But be careful. It might be sour,\" mom says.\\n\\nShe gives him an apple and a knife. She shows him how to cut it in half and put it in his mouth. Then she gives him another one and helps him chew.\\n\\n\"Yum!\" Tom says. \"This is good. Thank you, mom.\"\\n\\nHe takes another bite of his apple and puts it in his mouth. He chews slowly and savings every bit.\\n\\n\"You\\'re welcome, Tom. You did well,\" mom says.\\n\\nThey finish their snack and go back home. They are happy and hungry. They want more apples and nuts. And they love pie. And they love each other. And they love Dad. His name is Bob. He is dependable. He always makes them smile and share his toys. And he loves them very',\n",
              " \"Ann wants to go to university. She likes to learn new things and play with her friends. But she is very shy. She does not like to talk much or have a tutor.\\n\\nOne day, her mom tells her they are going on vacation. They will see many big planets in space. Ann is happy. She packs her backpack and gets ready to go. Her mom gives her a hat to wear when she goes outside. It is blue and has stars on it.\\n\\nThey get in their car and drive for a long time. Anna looks out of her window and sees mountains and rivers. She feels scared at first, but then she smiles. She knows that school is fun.\\n\\nWhen they arrive at church, Ann's mom hugs her and says she can help her set up her seat. Ann feels excited. She puts on her shoes and coat and follows her mom to a corner where there are no signs of teachers. There, she sees other kids who look different from her. Some are sitting in a circle, some are playing with dolls, some are talking.\\n\\nAnn thinks that maybe school is not so bad after all. She decides to try something new. She takes off her hat and sits down. She holds her nose and listens to her teacher's voice.\",\n",
              " \"He left early in the morning befor the sunrise. But he hasn't come back after a whole day of exploring!\\n\\nOne morning, he went outside and saw a big lake. It was so calm that he decided to take a rest there. As he sat on a rock, he noticed something shiny in his hand.\\n\\nHe looked closer and found it was a key! He was so excited, he put it into his pocket and started running home. \\n\\nWhen he got home, he showed everyone what he had found - a treasure chest full of gold coins! His friends were amazed and wanted one too. So he used a coin from his pocket to buy lots of treasures like coins, jewels, and more! \\n\\nThe boy was very proud of himself for finding such an important thing at last! From then on, he always kept an eye out for special treasures every time he visited his town. And he never stopped being patient with his discoveries! \\n\\nThe end. Taking care of those things is something really special and special - it will bring you many happiness!\\n\\nThe End. Even though we may not have enough money to get wealth, our hard work paid off. We should keep learning about this lesson, no matter how small or simple we are. With a little bit of patience, anything can happen!â€\\n\\nMoral of this\",\n",
              " 'Clearly there is something sketchy going on in the school. It\\'s a surprise for everyone!\\nAlice was so excited that she wanted to know what it was. She ran over and asked her teacher, \"What is this?\"\\nHer teacher smiled and said, \"It\\'s called an orange clown!\" Alice couldn\\'t believe it. She had never seen one before. \\nSo she decided to go outside and see if anyone would come out to play with her. Sure enough, everyone else came out from behind a tree and all of them started laughing and playing games together. They were having so much fun!\\n\\nBut soon Alice realized that there was no more noise coming out of their ears. Her friends weren\\'t around anymore - they were just as quiet as she thought. Soon enough, they all stopped being loud and ran back home to their owners. \\n\\nAlice felt sad that she hadn\\'t found out why someone was so loud but then she heard one of her neighbors speaking up. He said, \"We used to be happy when we saw you and we wanted to give you something special.\"\\n\\nAlice was filled with joy and thanked him for his kind words. She learned an important lesson that day: sometimes even if you are feeling loud, it can still make your day brighter. She will always remember to love and']"
            ]
          },
          "metadata": {},
          "execution_count": 13
        }
      ]
    },
    {
      "cell_type": "code",
      "source": [
        "prompt_length = input_ids['input_ids'].shape[1]\n",
        "input_ids['input_ids'].shape[1]"
      ],
      "metadata": {
        "colab": {
          "base_uri": "https://localhost:8080/"
        },
        "id": "Kbodl_OEBd9W",
        "outputId": "9defd985-5b1d-413c-b0fa-183dc4e6cc11"
      },
      "execution_count": 21,
      "outputs": [
        {
          "output_type": "execute_result",
          "data": {
            "text/plain": [
              "25"
            ]
          },
          "metadata": {},
          "execution_count": 21
        }
      ]
    },
    {
      "cell_type": "code",
      "source": [
        "gen_tokens.shape"
      ],
      "metadata": {
        "colab": {
          "base_uri": "https://localhost:8080/"
        },
        "id": "5uvqybuC5D6B",
        "outputId": "9cbd5a85-533a-49e6-9ade-b84f69f69938"
      },
      "execution_count": 19,
      "outputs": [
        {
          "output_type": "execute_result",
          "data": {
            "text/plain": [
              "torch.Size([5, 300])"
            ]
          },
          "metadata": {},
          "execution_count": 19
        }
      ]
    },
    {
      "cell_type": "code",
      "source": [
        "tokenizer.batch_decode(gen_tokens[:,prompt_length:])\n",
        "# sliced = gen_tokens[:, prompt_length:]"
      ],
      "metadata": {
        "colab": {
          "base_uri": "https://localhost:8080/"
        },
        "id": "Zfb0axox5Dyt",
        "outputId": "5e2f8456-c40b-4ddb-f105-20a808182b66"
      },
      "execution_count": 27,
      "outputs": [
        {
          "output_type": "execute_result",
          "data": {
            "text/plain": [
              "['. He wants to soar in space like a rocket. Every day he asks his mom and dad if they can take him there, but they say no. They say it is too dangerous for fishing.\\n\\nOne day, while Fish was looking out of bed, he saw something shiny in his closet. It was a key! Fish was very excited and ran to get it. When he opened it up, he found lots of treasures inside.\\n\\nHe had been hoping for this forever. But then he realized that it was not just any key. A special key made from steel and gold, which could open anything. Fish was so happy and thought about how lucky he was to have such an exciting adventure. \\n\\nFrom that day onwards, Fish always remembered to be careful when flying around. He never forgot what a mysterious key he had seen in space. And every time he looked at it, he smiled. This story teaches us that being curious and grateful is better than being foolish or trying to do things alone. So remember to look closer before you into your life. If we are foolish, bad things will happen. You may find something amazing without a key!â€ \\n\\nThe end. \\n\\nMoral: Be brave, curious, and pay attention to',\n",
              " 'It has many fruits and nuts for them to eat.\"\\n\\nTom nods. He likes apples too. He wants to try one. He climbs a ladder with his dad. They reach a big, red fruit that looks yummy. Tom picks it up and smells it.\\n\\n\"Mom, can I have this?\" he asks.\\n\\n\"Sure, Tom. But be careful. It might be sour,\" mom says.\\n\\nShe gives him an apple and a knife. She shows him how to cut it in half and put it in his mouth. Then she gives him another one and helps him chew.\\n\\n\"Yum!\" Tom says. \"This is good. Thank you, mom.\"\\n\\nHe takes another bite of his apple and puts it in his mouth. He chews slowly and savings every bit.\\n\\n\"You\\'re welcome, Tom. You did well,\" mom says.\\n\\nThey finish their snack and go back home. They are happy and hungry. They want more apples and nuts. And they love pie. And they love each other. And they love Dad. His name is Bob. He is dependable. He always makes them smile and share his toys. And he loves them very',\n",
              " \". She likes to learn new things and play with her friends. But she is very shy. She does not like to talk much or have a tutor.\\n\\nOne day, her mom tells her they are going on vacation. They will see many big planets in space. Ann is happy. She packs her backpack and gets ready to go. Her mom gives her a hat to wear when she goes outside. It is blue and has stars on it.\\n\\nThey get in their car and drive for a long time. Anna looks out of her window and sees mountains and rivers. She feels scared at first, but then she smiles. She knows that school is fun.\\n\\nWhen they arrive at church, Ann's mom hugs her and says she can help her set up her seat. Ann feels excited. She puts on her shoes and coat and follows her mom to a corner where there are no signs of teachers. There, she sees other kids who look different from her. Some are sitting in a circle, some are playing with dolls, some are talking.\\n\\nAnn thinks that maybe school is not so bad after all. She decides to try something new. She takes off her hat and sits down. She holds her nose and listens to her teacher's voice.\",\n",
              " 'of exploring!\\n\\nOne morning, he went outside and saw a big lake. It was so calm that he decided to take a rest there. As he sat on a rock, he noticed something shiny in his hand.\\n\\nHe looked closer and found it was a key! He was so excited, he put it into his pocket and started running home. \\n\\nWhen he got home, he showed everyone what he had found - a treasure chest full of gold coins! His friends were amazed and wanted one too. So he used a coin from his pocket to buy lots of treasures like coins, jewels, and more! \\n\\nThe boy was very proud of himself for finding such an important thing at last! From then on, he always kept an eye out for special treasures every time he visited his town. And he never stopped being patient with his discoveries! \\n\\nThe end. Taking care of those things is something really special and special - it will bring you many happiness!\\n\\nThe End. Even though we may not have enough money to get wealth, our hard work paid off. We should keep learning about this lesson, no matter how small or simple we are. With a little bit of patience, anything can happen!â€\\n\\nMoral of this',\n",
              " 'It\\'s a surprise for everyone!\\nAlice was so excited that she wanted to know what it was. She ran over and asked her teacher, \"What is this?\"\\nHer teacher smiled and said, \"It\\'s called an orange clown!\" Alice couldn\\'t believe it. She had never seen one before. \\nSo she decided to go outside and see if anyone would come out to play with her. Sure enough, everyone else came out from behind a tree and all of them started laughing and playing games together. They were having so much fun!\\n\\nBut soon Alice realized that there was no more noise coming out of their ears. Her friends weren\\'t around anymore - they were just as quiet as she thought. Soon enough, they all stopped being loud and ran back home to their owners. \\n\\nAlice felt sad that she hadn\\'t found out why someone was so loud but then she heard one of her neighbors speaking up. He said, \"We used to be happy when we saw you and we wanted to give you something special.\"\\n\\nAlice was filled with joy and thanked him for his kind words. She learned an important lesson that day: sometimes even if you are feeling loud, it can still make your day brighter. She will always remember to love and']"
            ]
          },
          "metadata": {},
          "execution_count": 27
        }
      ]
    }
  ]
}