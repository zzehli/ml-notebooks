{
 "cells": [
  {
   "cell_type": "code",
   "execution_count": null,
   "id": "475b8ff6-cf1a-437d-a668-98fa508780b0",
   "metadata": {},
   "outputs": [],
   "source": [
    "!pip install datasets evaluate transformers[sentencepiece]"
   ]
  },
  {
   "cell_type": "code",
   "execution_count": null,
   "id": "690da0e9-2d2d-4f60-a7d2-ebe5673ee4bd",
   "metadata": {},
   "outputs": [],
   "source": [
    "!curl -s https://packagecloud.io/install/repositories/github/git-lfs/script.deb.sh | bash\n",
    "!apt-get install git-lfs"
   ]
  },
  {
   "cell_type": "code",
   "execution_count": null,
   "id": "43a9d7eb-1fa5-4336-980e-c5e03f402796",
   "metadata": {},
   "outputs": [],
   "source": [
    "from datasets import load_dataset\n",
    "\n",
    "# This can take a few minutes to load, so grab a coffee or tea while you wait!\n",
    "\n",
    "raw_data = load_dataset(\"roneneldan/TinyStories\")"
   ]
  },
  {
   "cell_type": "code",
   "execution_count": null,
   "id": "e75839db-341e-4387-8c2e-c6471c879ae1",
   "metadata": {},
   "outputs": [],
   "source": [
    "raw_data[\"train\"]"
   ]
  },
  {
   "cell_type": "code",
   "execution_count": null,
   "id": "9b73d546-15d5-450b-9472-9874512f3e4d",
   "metadata": {},
   "outputs": [],
   "source": [
    "def get_training_corpus():\n",
    "    dataset = raw_data[\"train\"]\n",
    "    for start_idx in range(0, len(dataset), 1000):\n",
    "        samples = dataset[start_idx : start_idx + 1000]\n",
    "        yield samples[\"text\"]\n",
    "training_corpus = get_training_corpus()"
   ]
  },
  {
   "cell_type": "code",
   "execution_count": null,
   "id": "ed033b6a-f3b4-499b-9541-8d5bb0a477ee",
   "metadata": {},
   "outputs": [],
   "source": [
    "from transformers import AutoTokenizer, LlamaTokenizer\n",
    "\n",
    "old_tokenizer =  AutoTokenizer.from_pretrained(\"Jae-star/llama-sc\")\n",
    "# old_tokenizer.add_special_tokens({\"bos_token\": \"<s>\", \"eos_token\": \"</s>\"})\n",
    "old_tokenizer.pad_token = \"\"\n",
    "print(\"Vocab size:\", old_tokenizer.vocab_size)\n",
    "print(\"Special tokens:\", old_tokenizer.special_tokens_map)"
   ]
  },
  {
   "cell_type": "code",
   "execution_count": null,
   "id": "349caa2d-931f-4b42-8829-849724f213d8",
   "metadata": {},
   "outputs": [],
   "source": [
    "tokenizer = old_tokenizer.train_new_from_iterator(training_corpus, 2000)"
   ]
  },
  {
   "cell_type": "code",
   "execution_count": null,
   "id": "ff44907e-93a7-440c-8012-da76452a8606",
   "metadata": {},
   "outputs": [],
   "source": [
    "def evaluate_tokenizer(tokenizer, test_texts):\n",
    "    metrics = {}\n",
    "    \n",
    "    # Compression metrics\n",
    "    total_chars = sum(len(text) for text in test_texts)\n",
    "    total_words = sum(len(text.split()) for text in test_texts)\n",
    "    \n",
    "    all_tokens = []\n",
    "    for text in test_texts:\n",
    "        tokens = tokenizer.encode(text)\n",
    "        all_tokens.extend(tokens)\n",
    "    \n",
    "    total_tokens = len(all_tokens)\n",
    "    \n",
    "    metrics['chars_per_token'] = total_chars / total_tokens\n",
    "    metrics['words_per_token'] = total_words / total_tokens\n",
    "    metrics['tokens_per_word'] = total_tokens / total_words\n",
    "    \n",
    "    # Vocabulary utilization\n",
    "    unique_tokens = set(all_tokens)\n",
    "    metrics['vocab_utilization'] = len(unique_tokens) / tokenizer.vocab_size\n",
    "    \n",
    "    # Calculate unknown token rate if you have an UNK token ID\n",
    "    if hasattr(tokenizer, 'unk_token_id'):\n",
    "        unk_count = all_tokens.count(tokenizer.unk_token_id)\n",
    "        metrics['unknown_token_rate'] = unk_count / total_tokens\n",
    "    \n",
    "    return metrics"
   ]
  },
  {
   "cell_type": "code",
   "execution_count": null,
   "id": "eb3bf5c9-073d-4941-946c-0bf8f2422de0",
   "metadata": {},
   "outputs": [],
   "source": [
    "shuffled_dataset = raw_data[\"train\"].shuffle(seed=42)\n",
    "samples = shuffled_dataset.take(10000)\n",
    "print(evaluate_tokenizer(old_tokenizer, samples))\n",
    "print(evaluate_tokenizer(tokenizer, samples))"
   ]
  }
 ],
 "metadata": {
  "kernelspec": {
   "display_name": "Python 3 (ipykernel)",
   "language": "python",
   "name": "python3"
  },
  "language_info": {
   "codemirror_mode": {
    "name": "ipython",
    "version": 3
   },
   "file_extension": ".py",
   "mimetype": "text/x-python",
   "name": "python",
   "nbconvert_exporter": "python",
   "pygments_lexer": "ipython3",
   "version": "3.10.12"
  }
 },
 "nbformat": 4,
 "nbformat_minor": 5
}
